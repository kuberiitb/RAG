{
  "nbformat": 4,
  "nbformat_minor": 0,
  "metadata": {
    "colab": {
      "provenance": [],
      "mount_file_id": "11inVIN7MU10fAUMzusR1rAS-HMAAqGVt",
      "authorship_tag": "ABX9TyNrXwTZmQtBtUhTx08/3s8w"
    },
    "kernelspec": {
      "name": "python3",
      "display_name": "Python 3"
    },
    "language_info": {
      "name": "python"
    }
  },
  "cells": [
    {
      "cell_type": "markdown",
      "source": [
        "**Clone github repo**"
      ],
      "metadata": {
        "id": "AFW4KNNCNazU"
      }
    },
    {
      "cell_type": "code",
      "source": [
        "!git clone https://github.com/kuberiitb/RAG.git"
      ],
      "metadata": {
        "colab": {
          "base_uri": "https://localhost:8080/"
        },
        "id": "q30afJn5JASb",
        "outputId": "d534e500-c479-45f5-98fb-17d79887f220"
      },
      "execution_count": 35,
      "outputs": [
        {
          "output_type": "stream",
          "name": "stdout",
          "text": [
            "fatal: destination path 'RAG' already exists and is not an empty directory.\n"
          ]
        }
      ]
    },
    {
      "cell_type": "code",
      "source": [],
      "metadata": {
        "id": "7v5vmQI5OAbn"
      },
      "execution_count": 27,
      "outputs": []
    },
    {
      "cell_type": "code",
      "source": [
        "cd RAG"
      ],
      "metadata": {
        "colab": {
          "base_uri": "https://localhost:8080/"
        },
        "id": "VmgezE_XNyP9",
        "outputId": "7ea49dad-46db-42a0-9fda-9cc3e4324d0c"
      },
      "execution_count": 37,
      "outputs": [
        {
          "output_type": "stream",
          "name": "stdout",
          "text": [
            "/content/RAG\n"
          ]
        }
      ]
    },
    {
      "cell_type": "code",
      "source": [
        "mkdir data/"
      ],
      "metadata": {
        "colab": {
          "base_uri": "https://localhost:8080/"
        },
        "id": "sFsifBWNORnq",
        "outputId": "03c4270b-70e0-4963-905b-521cd44697ea"
      },
      "execution_count": 38,
      "outputs": [
        {
          "output_type": "stream",
          "name": "stdout",
          "text": [
            "mkdir: cannot create directory ‘data/’: File exists\n"
          ]
        }
      ]
    },
    {
      "cell_type": "code",
      "source": [
        "!ls data/"
      ],
      "metadata": {
        "colab": {
          "base_uri": "https://localhost:8080/"
        },
        "id": "Wc6iPBJWN2Sl",
        "outputId": "7fed5693-fc7d-4f92-db7d-bc63f85bf4ec"
      },
      "execution_count": 40,
      "outputs": [
        {
          "output_type": "stream",
          "name": "stdout",
          "text": [
            "attention_is_all_you_need.pdf  attention_math.pdf\n"
          ]
        }
      ]
    },
    {
      "cell_type": "markdown",
      "source": [
        "**Downloading data**"
      ],
      "metadata": {
        "id": "HBD-ib9XNiEB"
      }
    },
    {
      "cell_type": "code",
      "source": [
        "# attention is all you need\n",
        "!wget https://arxiv.org/pdf/1706.03762 -O data/attention_is_all_you_need.pdf -nc\n",
        "\n",
        "# A Mathematical View of Attention Models in Deep Learning\n",
        "!wget https://people.tamu.edu/~sji/classes/attn.pdf -O data/attention_math.pdf -nc"
      ],
      "metadata": {
        "colab": {
          "base_uri": "https://localhost:8080/"
        },
        "id": "tJO8DmhDM2n0",
        "outputId": "3d1f992a-b1e1-4fab-f23e-4b296f0d75bd"
      },
      "execution_count": 41,
      "outputs": [
        {
          "output_type": "stream",
          "name": "stdout",
          "text": [
            "File ‘data/attention_is_all_you_need.pdf’ already there; not retrieving.\n",
            "File ‘data/attention_math.pdf’ already there; not retrieving.\n"
          ]
        }
      ]
    },
    {
      "cell_type": "code",
      "source": [
        "!ls -ll data/"
      ],
      "metadata": {
        "colab": {
          "base_uri": "https://localhost:8080/"
        },
        "id": "35OwXOoDM5Gi",
        "outputId": "0b27ff29-9ed9-4fcd-e383-183f4dd72754"
      },
      "execution_count": 43,
      "outputs": [
        {
          "output_type": "stream",
          "name": "stdout",
          "text": [
            "total 2488\n",
            "-rw-r--r-- 1 root root 2215244 Apr 12  2024 attention_is_all_you_need.pdf\n",
            "-rw-r--r-- 1 root root  330679 Oct 29  2020 attention_math.pdf\n"
          ]
        }
      ]
    },
    {
      "cell_type": "code",
      "source": [
        "!git status"
      ],
      "metadata": {
        "colab": {
          "base_uri": "https://localhost:8080/"
        },
        "id": "9xZsIsm8M9j2",
        "outputId": "f0ddc5b9-dbca-4cfc-99f3-9677f79fc22d"
      },
      "execution_count": 47,
      "outputs": [
        {
          "output_type": "stream",
          "name": "stdout",
          "text": [
            "On branch main\n",
            "Your branch is up to date with 'origin/main'.\n",
            "\n",
            "Changes to be committed:\n",
            "  (use \"git restore --staged <file>...\" to unstage)\n",
            "\t\u001b[32mnew file:   data/attention_is_all_you_need.pdf\u001b[m\n",
            "\t\u001b[32mnew file:   data/attention_math.pdf\u001b[m\n",
            "\n"
          ]
        }
      ]
    },
    {
      "cell_type": "code",
      "source": [
        "!git add data/*"
      ],
      "metadata": {
        "id": "-zhwQ2tQNLdr"
      },
      "execution_count": 46,
      "outputs": []
    },
    {
      "cell_type": "code",
      "source": [
        "!git config --global user.email kuberbhu@gmail.com"
      ],
      "metadata": {
        "id": "SzMtSNqqOoGh"
      },
      "execution_count": 54,
      "outputs": []
    },
    {
      "cell_type": "code",
      "source": [
        "!git config --global user.name \"Kuber Kumar Chaurasiya\""
      ],
      "metadata": {
        "id": "OqBRqwJxOiHQ"
      },
      "execution_count": 56,
      "outputs": []
    },
    {
      "cell_type": "code",
      "source": [
        "!git commit -m \"added few sample papers\""
      ],
      "metadata": {
        "colab": {
          "base_uri": "https://localhost:8080/"
        },
        "id": "bP6EW-1-Or-6",
        "outputId": "371e8cbb-cf06-41cd-8c23-d106a33f5e75"
      },
      "execution_count": 57,
      "outputs": [
        {
          "output_type": "stream",
          "name": "stdout",
          "text": [
            "[main 2d8577c] added few sample papers\n",
            " 2 files changed, 0 insertions(+), 0 deletions(-)\n",
            " create mode 100644 data/attention_is_all_you_need.pdf\n",
            " create mode 100644 data/attention_math.pdf\n"
          ]
        }
      ]
    },
    {
      "cell_type": "code",
      "source": [
        "!git push origin main"
      ],
      "metadata": {
        "colab": {
          "base_uri": "https://localhost:8080/"
        },
        "id": "qH370y9WOmJd",
        "outputId": "20167798-cbd8-4061-d84f-13f85bdead1c"
      },
      "execution_count": 59,
      "outputs": [
        {
          "output_type": "stream",
          "name": "stdout",
          "text": [
            "fatal: could not read Username for 'https://github.com': No such device or address\n"
          ]
        }
      ]
    },
    {
      "cell_type": "code",
      "source": [
        "!ssh-keygen -t ed25519 -C kuberbhu@gmail.com"
      ],
      "metadata": {
        "colab": {
          "base_uri": "https://localhost:8080/"
        },
        "id": "B26g38fGO_Ca",
        "outputId": "9bbabc30-d6b3-45c6-ef70-8e2910abdb96"
      },
      "execution_count": 61,
      "outputs": [
        {
          "output_type": "stream",
          "name": "stdout",
          "text": [
            "Generating public/private ed25519 key pair.\n",
            "Enter file in which to save the key (/root/.ssh/id_ed25519): kuber\n",
            "Enter passphrase (empty for no passphrase): \n",
            "Enter same passphrase again: \n",
            "Your identification has been saved in kuber\n",
            "Your public key has been saved in kuber.pub\n",
            "The key fingerprint is:\n",
            "SHA256:Dzq6vQ38kJHttZc2upG4IDvf5KK+IUzbhXKCDoL7tbU kuberbhu@gmail.com\n",
            "The key's randomart image is:\n",
            "+--[ED25519 256]--+\n",
            "|                 |\n",
            "|                 |\n",
            "|                 |\n",
            "|..   . o         |\n",
            "|= + o + S .      |\n",
            "|++ * o = = o .   |\n",
            "|..+ = X + = =    |\n",
            "| . o.O.% . = .   |\n",
            "|  ..O*Eo* o.     |\n",
            "+----[SHA256]-----+\n"
          ]
        }
      ]
    },
    {
      "cell_type": "code",
      "source": [
        "\n"
      ],
      "metadata": {
        "id": "X7aycQmsP3G3"
      },
      "execution_count": null,
      "outputs": []
    }
  ]
}